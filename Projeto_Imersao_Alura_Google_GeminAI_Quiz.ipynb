{
  "nbformat": 4,
  "nbformat_minor": 0,
  "metadata": {
    "colab": {
      "provenance": [],
      "authorship_tag": "ABX9TyOxVxZ0PSzi/JycZcERDyQF",
      "include_colab_link": true
    },
    "kernelspec": {
      "name": "python3",
      "display_name": "Python 3"
    },
    "language_info": {
      "name": "python"
    }
  },
  "cells": [
    {
      "cell_type": "markdown",
      "metadata": {
        "id": "view-in-github",
        "colab_type": "text"
      },
      "source": [
        "<a href=\"https://colab.research.google.com/github/danilorogerio/Projeto_Imers-o-Alura-Google/blob/main/Projeto_Imersao_Alura_Google_GeminAI_Quiz.ipynb\" target=\"_parent\"><img src=\"https://colab.research.google.com/assets/colab-badge.svg\" alt=\"Open In Colab\"/></a>"
      ]
    },
    {
      "cell_type": "markdown",
      "source": [
        "#                   **GeminAIQuiz - Quiz Dinâmico com Google Gemini**\n",
        "\n",
        "**Descrição do Projeto:**\n",
        "\n",
        "Projeto de quiz dinâmico utilizando a API do Google Gemini. O Gemini será responsável por gerar as perguntas, as alternativas de resposta, avaliar as respostas do usuário e fornecer feedback, tornando o processo de aprendizado mais interativo e personalizado.\n",
        "\n",
        "**Funcionalidades:**\n",
        "\n",
        "Geração de Perguntas e Respostas: O usuário poderá escolher um tema ou área de conhecimento para o quiz. O Gemini gerará perguntas, juntamente com 5 alternativas de resposta (A, B, C, D, E).\n",
        "\n",
        "Avaliação de Respostas: O Gemini avaliará as respostas fornecidas pelo usuário, comparando-as com a resposta correta.Feedback poderá ser fornecido, indicando se a resposta está correta ou incorreta, além de explicar o porquê.\n",
        "\n",
        "Consolidação de Resultados: Ao final do quiz, o Gemini fornecerá um resumo do desempenho do usuário, incluindo Número de perguntas respondidas corretamente, porcentagem de acerto.\n",
        "\n",
        "**Implementação:**\n",
        "\n",
        "Linguagem de Programação: Python.\n",
        "\n",
        "Plataforma: Google Colab.\n",
        "\n",
        "API: Google Gemini.\n",
        "\n",
        "Interface do Usuário:A interface do quiz será implementada no Google Colab, utilizando células de código e texto para exibir as perguntas, receber as respostas do usuário e apresentar os resultados. Elementos visuais, como cores e formatação, serão utilizados para tornar o quiz mais atraente e intuitivo.\n",
        "\n",
        "**Fluxo do Programa:**\n",
        "\n",
        "Inicialização: O usuário define o tema.\n",
        "\n",
        "Loop Principal:O Gemini gera uma pergunta e suas alternativas de resposta. As informações são exibidas ao usuário. O usuário fornece a resposta. O Gemini avalia a resposta e fornece feedback.\n",
        "O processo se repete até o usuário optar por sair.\n",
        "\n",
        "Consolidação de Resultados: O Gemini calcula e apresenta o desempenho do usuário.\n",
        "\n",
        "**Benefícios:**\n",
        "\n",
        "Aprendizado Personalizado: O Gemini adapta as perguntas ao nível de conhecimento do usuário.\n",
        "\n",
        "Feedback Detalhado: O usuário recebe explicações sobre as respostas, aprofundando a compreensão do tema.\n",
        "\n",
        "Engajamento Aprimorado: A geração dinâmica de perguntas torna o quiz mais interessante e desafiador.\n",
        "\n",
        "**Melhorias**\n",
        "\n",
        "-Foi identificado inconsistências na consolidação dos resultados quando ficou a cargo somente do Gemini, provavelmente solucionável com refino do prompt. A solução aplicada neste projeto foi fazer parsing do histórico de chat e informar ao Gemini da quantidade de erros e acertos mediante a função *obter_resultado*.\n",
        "\n",
        "-Foi percebido baixa aleatoridade nas perguntas quando se revisita um mesmo tema o que provavelmente possa ser resolvido com ajuste dos parametros do modelo.\n",
        "\n",
        "-Poucos testes realizados\n",
        "\n",
        "**Conclusão:**\n",
        "Este projeto demonstra o potencial do Google Gemini para criar experiências de aprendizado inovadoras e personalizadas. A capacidade do Gemini de gerar conteúdo dinâmico, avaliar respostas e fornecer feedback detalhado o torna uma ferramenta poderosa para o desenvolvimento de quizzes interativos e eficazes.\n",
        "\n",
        "\n",
        "** descrição de projeto gerada com auxílio do  Google AI Studio *\n"
      ],
      "metadata": {
        "id": "akXTYL94QRsE"
      }
    },
    {
      "cell_type": "code",
      "source": [
        "from google.colab import userdata\n",
        "import google.generativeai as genai"
      ],
      "metadata": {
        "id": "f-I3tsVWNcce"
      },
      "execution_count": 16,
      "outputs": []
    },
    {
      "cell_type": "code",
      "source": [
        "genai.configure(api_key= userdata.get('GOOGLE_API_KEY'))"
      ],
      "metadata": {
        "id": "7XSSemlhNpqu"
      },
      "execution_count": 17,
      "outputs": []
    },
    {
      "cell_type": "markdown",
      "source": [
        "Funções para layout da tela:\n",
        "- print_titulo_quiz : gerado pelo Google AI Studio\n",
        "- aplicar_estilo\n",
        "- borda_quadrada : gerado pelo Google AI Studio\n",
        "Documentação gerada pelo Google AI Studio"
      ],
      "metadata": {
        "id": "vr-oTap6R62V"
      }
    },
    {
      "cell_type": "code",
      "source": [
        "def print_titulo_quiz(titulo):\n",
        "  \"\"\"Imprime um título de jogo estilo quiz com borda.\"\"\"\n",
        "\n",
        "  borda = \"*\" * (len(titulo) + 4)\n",
        "  print(borda)\n",
        "  print(f\"* {titulo} *\")\n",
        "  print(borda)"
      ],
      "metadata": {
        "id": "ibar1_9YRvyR"
      },
      "execution_count": 18,
      "outputs": []
    },
    {
      "cell_type": "code",
      "source": [
        "def aplicar_estilo(texto, estilo):\n",
        "  \"\"\"Aplica um estilo de formatação ANSI a uma string.\n",
        "\n",
        "  Args:\n",
        "    texto: A string a ser formatada.\n",
        "    estilo: O estilo a ser aplicado. As opções são: \"negrito\", \"azul\", \"vermelho\".\n",
        "\n",
        "  Returns:\n",
        "    A string formatada com o estilo especificado.\n",
        "\n",
        "  Raises:\n",
        "    ValueError: Se o estilo fornecido não for válido.\n",
        "  \"\"\"\n",
        "  if estilo == \"negrito\":\n",
        "    return f\"\\033[1m{texto}\\033[0m\"\n",
        "  elif estilo == \"azul\":\n",
        "    return f\"\\033[34m{texto}\\033[0m\"\n",
        "  elif estilo == \"vermelho\":\n",
        "    return f\"\\033[91m{texto}\\033[0m\""
      ],
      "metadata": {
        "id": "3ttJVALQZMdK"
      },
      "execution_count": 19,
      "outputs": []
    },
    {
      "cell_type": "code",
      "source": [
        "def borda_quadrada(texto):\n",
        "  \"\"\"Adiciona uma borda quadrada em torno de uma string.\n",
        "\n",
        "  Args:\n",
        "    texto: A string a ser enquadrada.\n",
        "\n",
        "  Returns:\n",
        "    A string com a borda quadrada.\n",
        "  \"\"\"\n",
        "\n",
        "  linhas = texto.splitlines()\n",
        "  largura_maxima = max(len(linha) for linha in linhas)\n",
        "\n",
        "  borda_horizontal = \"+\" + \"-\" * (largura_maxima + 2) + \"+\"\n",
        "  texto_enquadrado = borda_horizontal + \"\\n\"\n",
        "\n",
        "  for linha in linhas:\n",
        "    texto_enquadrado += \"| \" + linha.ljust(largura_maxima) + \" |\\n\"\n",
        "\n",
        "  texto_enquadrado += borda_horizontal\n",
        "\n",
        "  return texto_enquadrado"
      ],
      "metadata": {
        "id": "0RBJRMrHqalX"
      },
      "execution_count": 20,
      "outputs": []
    },
    {
      "cell_type": "markdown",
      "source": [
        "\n",
        "Funções definidas para template do prompt.\n",
        "- template_pergunta\n",
        "- template_resposta\n",
        "- template_resultado\n",
        "\n",
        "Documentação do código gerada pelo Google AI Studio com pequenos ajustes."
      ],
      "metadata": {
        "id": "U6yNnCF9P-xz"
      }
    },
    {
      "cell_type": "code",
      "source": [
        "def template_pergunta(assunto):\n",
        "  \"\"\"Gera um template de instrução para uo Gemini criar uma pergunta sobre um assunto específico.\n",
        "\n",
        "  A função recebe um assunto como entrada e cria uma string de instrução detalhada para o Gemini. A instrução solicita ao modelo que gere uma pergunta\n",
        "  sobre o assunto fornecido, com cinco alternativas de resposta (a-e).\n",
        "\n",
        "  Args:\n",
        "    assunto: O tema sobre o qual a pergunta deve ser elaborada.\n",
        "\n",
        "  Returns:\n",
        "    Uma string contendo a instrução formatada para o modelo. A instrução inclui:\n",
        "      * A instrução para gerar uma pergunta sobre o assunto.\n",
        "      * A instrução para fornecer cinco alternativas de resposta (a-e).\n",
        "      * A instrução para formatar a pergunta e as alternativas de acordo com um padrão específico.\n",
        "      * A instrução para indicar explicitamente que não possui conhecimento sobre o assunto, caso ele seja desconhecido.\n",
        "\n",
        "  \"\"\"\n",
        "  Instrucoes_Pergunta_Modelo = f\"\"\"\n",
        "  Crie uma pergunta sobre o tópico '{assunto}' com cinco alternativas e somente uma resposta correta.\n",
        "  Use a formatação abaixo:\n",
        "\n",
        "  a) Resposta 1\n",
        "  b) Resposta 2\n",
        "  c) Resposta 3\n",
        "  d) Resposta 4\n",
        "  e) Resposta 5.\n",
        "\n",
        "  max_tokens: 50,\n",
        "\n",
        "  \"\"\"\n",
        "  return Instrucoes_Pergunta_Modelo\n",
        "\n",
        "def template_resposta(prompt):\n",
        "  \"\"\"Cria um template de instrução para avaliar a resposta de um jogador.\n",
        "\n",
        "  A função recebe a alternativa selecionada pelo jogador e gera um texto\n",
        "  que instrui o Gemini a avaliar a correção da resposta.\n",
        "\n",
        "  Args:\n",
        "    prompt: A alternativa selecionada pelo jogador (e.g., \"A\", \"B\", \"C\", etc.).\n",
        "\n",
        "  Returns:\n",
        "    Uma string contendo a instrução formatada para o modelo. A instrução\n",
        "    informa ao modelo qual alternativa o jogador escolheu e solicita que ele\n",
        "    avalie se a escolha está correta ou não.\n",
        "  \"\"\"\n",
        "  Instrucoes_Resposta_Modelo = f\"\"\"\n",
        "  O jogador selecionou alternativa {prompt}. Avalie se a resposta está certa ou errada.\n",
        "  max_tokens: 150,\n",
        "\n",
        "  \"\"\"\n",
        "  return Instrucoes_Resposta_Modelo\n"
      ],
      "metadata": {
        "id": "pl3pzfg224uT"
      },
      "execution_count": 21,
      "outputs": []
    },
    {
      "cell_type": "code",
      "source": [
        "def template_resultado(historico, certas, erradas):\n",
        "\n",
        "    Instruções_Resultado = f\"\"\"\n",
        "    Analise o histórico de chat {historico} e informe o número de respostas {certas} e {erradas}.\n",
        "\n",
        "    Responda no seguinte formato:\n",
        "    Respostas certas: {certas}\n",
        "    Respostas erradas: {erradas}\n",
        "\n",
        "    Sugira conselhos de estudo se {erradas} > {certas}\n",
        "    Elogie se  {certas} >= {erradas}\n",
        "\n",
        "    \"\"\"\n",
        "    return Instruções_Resultado"
      ],
      "metadata": {
        "id": "DZG8fOKNil4W"
      },
      "execution_count": 22,
      "outputs": []
    },
    {
      "cell_type": "markdown",
      "source": [
        "Funções de validação:\n",
        "- gemini_conhece_tema\n",
        "- avalia_resposta\n",
        "- seleciona_alternativa\n",
        "- tratar_pergunta\n",
        "- obter_resultados\n",
        "\n",
        "Documentação gerada pelo Google AI Studio"
      ],
      "metadata": {
        "id": "GQCRhl-47Tb8"
      }
    },
    {
      "cell_type": "code",
      "source": [
        "def gemini_conhece_tema(pergunta):\n",
        "  \"\"\"Verifica se a resposta gerada pelo modelo Gemini indica conhecimento sobre o assunto.\n",
        "\n",
        "  A função analisa os primeiros 25 caracteres da resposta (convertidos para maiúsculas)\n",
        "  e busca por termos que indiquem falta de conhecimento, como \"Não sei\", \"Não conheço\", etc.\n",
        "\n",
        "  Args:\n",
        "    pergunta_gerada: A string contendo a resposta gerada pelo modelo Gemini.\n",
        "\n",
        "  Returns:\n",
        "    True se a resposta NÃO contiver termos que indiquem falta de conhecimento,\n",
        "    sugerindo que o modelo POSSUI conhecimento sobre o assunto.\n",
        "    False se a resposta contiver algum termo que indique falta de conhecimento,\n",
        "    sugerindo que o modelo NÃO possui conhecimento sobre o assunto.\n",
        "  \"\"\"\n",
        "  string = pergunta[0:30].upper()\n",
        "  lista_termos = [\"NÃO SEI\", \"NÃO CONHEÇO\", \"NÃO TENHO CONHECIMENTO\",\"NÃO É POSSÍVEL\"]\n",
        "  for termo in lista_termos:\n",
        "    if termo in string:\n",
        "      return False\n",
        "  return True"
      ],
      "metadata": {
        "id": "1Q8Qsp71HZJJ"
      },
      "execution_count": 23,
      "outputs": []
    },
    {
      "cell_type": "code",
      "source": [
        "def avalia_resposta(resposta):\n",
        "  \"\"\"\n",
        "  Verifica se a resposta fornecida contém termos negativos, indicando uma resposta incorreta.\n",
        "\n",
        "  A função analisa os primeiros 30 caracteres da resposta em maiúsculo, buscando a\n",
        "  presença de termos negativos como \"ERR\", \"INCORR\" ou \"INDEV\". Se algum desses termos\n",
        "  for encontrado na resposta, a função considera a resposta como incorreta e retorna False.\n",
        "  Caso contrário, a resposta é considerada correta e a função retorna True.\n",
        "\n",
        "  Args:\n",
        "    resposta (str): A resposta a ser avaliada.\n",
        "\n",
        "  Returns:\n",
        "    bool: True se a resposta for considerada correta (não contém termos negativos), False caso contrário.\n",
        "  \"\"\"\n",
        "  string = resposta[0:30].upper()\n",
        "  lista_termos = [\"ERR\", \"INCORRE\", \"INDEV\"]\n",
        "  for termo in lista_termos:\n",
        "    if termo in string:\n",
        "      return False\n",
        "  return True"
      ],
      "metadata": {
        "id": "Aa40d0O4GW3X"
      },
      "execution_count": 24,
      "outputs": []
    },
    {
      "cell_type": "code",
      "source": [
        "def seleciona_alternativa():\n",
        "  \"\"\"\n",
        "  Solicita ao usuário que insira uma alternativa válida (A, B, C, D ou E).\n",
        "\n",
        "  A função exibe um menu com uma linha horizontal, solicita a entrada do usuário\n",
        "  para a alternativa correta e verifica se a entrada é válida (A, B, C, D ou E).\n",
        "  Se a entrada não for válida, exibe uma mensagem de erro e solicita\n",
        "  novamente a entrada do usuário. O loop continua até que uma alternativa válida\n",
        "  seja inserida.\n",
        "\n",
        "  Returns:\n",
        "    str: A alternativa válida inserida pelo usuário em maiúsculo (A, B, C, D ou E).\n",
        "  \"\"\"\n",
        "  print(\"-\" * 100)\n",
        "  while True:\n",
        "    alternativa = input(\"Qual a alternativa correta:\\n\")\n",
        "    if alternativa.upper() in (\"A\", \"B\",\"C\", \"D\", \"E\"):\n",
        "      break\n",
        "    else:\n",
        "      print(\"Essa alternativa não existe! Digite a, b, c, d ou e\")\n",
        "  print(\"-\" * 100)\n",
        "  return alternativa"
      ],
      "metadata": {
        "id": "M2RZ1T-OYqzi"
      },
      "execution_count": 25,
      "outputs": []
    },
    {
      "cell_type": "markdown",
      "source": [
        "O Gemini para algumas situações tem gerado a pergunta seguida da resposta correta no formato ** {Resposta correta} **. Assim utilizei essa função para fazer o tratamento."
      ],
      "metadata": {
        "id": "hM-31A2TcB8M"
      }
    },
    {
      "cell_type": "code",
      "source": [
        "def tratar_pergunta(string):\n",
        "  \"\"\"\n",
        "  Remove todos os caracteres após os caracteres '**' em uma string.\n",
        "\n",
        "  A função divide a string nos caracteres '**' e retorna a parte da string antes\n",
        "  da ocorrência de '**'.\n",
        "\n",
        "  Args:\n",
        "    string: A string a ser processada.\n",
        "\n",
        "  Returns:\n",
        "    str: A parte da string antes dos caracteres '**', ou a string original\n",
        "         caso '**' não esteja presente.\n",
        "  \"\"\"\n",
        "  partes = string.split(\"**\")\n",
        "  return partes[0]"
      ],
      "metadata": {
        "id": "qC3oKQZjaegH"
      },
      "execution_count": 26,
      "outputs": []
    },
    {
      "cell_type": "code",
      "source": [
        "def obter_resultado(history):\n",
        "  \"\"\"\n",
        "  Analisa o histórico de conversas do chatbot para determinar o número de respostas corretas e incorretas.\n",
        "\n",
        "  Args:\n",
        "      history: Uma lista de objetos representando o histórico de conversas do chatbot.\n",
        "\n",
        "  Returns:\n",
        "      Uma tupla contendo o número de respostas corretas e o número de respostas incorretas.\n",
        "  \"\"\"\n",
        "  respostas_corretas = 0\n",
        "  respostas_incorretas = 0\n",
        "  for i in range (3, len(history), 4):\n",
        "    string = str(chat.history[i].parts).split(\".\")[0].upper()\n",
        "    if string.find(\"CERT\", 0, 25) > 0:\n",
        "      respostas_corretas += 1\n",
        "    if string.find(\"ERRA\", 0, 25) > 0:\n",
        "      respostas_incorretas += 1\n",
        "  return (respostas_corretas, respostas_incorretas)"
      ],
      "metadata": {
        "id": "tUD5HpFtKTsI"
      },
      "execution_count": 27,
      "outputs": []
    },
    {
      "cell_type": "markdown",
      "source": [
        "Configuração dos parâmetros do modelo, ensinadas durante a imersão."
      ],
      "metadata": {
        "id": "m4mQE0w8e_8M"
      }
    },
    {
      "cell_type": "code",
      "source": [
        "generation_config = {\n",
        "  \"temperature\": 0.3,\n",
        "  \"top_p\": 0.9,\n",
        "  \"top_k\": 10,\n",
        "  \"candidate_count\": 1,\n",
        "}\n",
        "safety_settings = [\n",
        "  {\n",
        "    \"category\": \"HARM_CATEGORY_HARASSMENT\",\n",
        "    \"threshold\": \"BLOCK_MEDIUM_AND_ABOVE\"\n",
        "  },\n",
        "  {\n",
        "    \"category\": \"HARM_CATEGORY_HATE_SPEECH\",\n",
        "    \"threshold\": \"BLOCK_MEDIUM_AND_ABOVE\"\n",
        "  },\n",
        "  {\n",
        "    \"category\": \"HARM_CATEGORY_SEXUALLY_EXPLICIT\",\n",
        "    \"threshold\": \"BLOCK_MEDIUM_AND_ABOVE\"\n",
        "  },\n",
        "  {\n",
        "    \"category\": \"HARM_CATEGORY_DANGEROUS_CONTENT\",\n",
        "    \"threshold\": \"BLOCK_MEDIUM_AND_ABOVE\"\n",
        "  },\n",
        "]"
      ],
      "metadata": {
        "id": "XD_xmO4dPBhn"
      },
      "execution_count": 28,
      "outputs": []
    },
    {
      "cell_type": "markdown",
      "source": [
        "Cria o modelo com as configurações acima"
      ],
      "metadata": {
        "id": "oiufFoIY9toN"
      }
    },
    {
      "cell_type": "code",
      "source": [
        "model = genai.GenerativeModel(model_name=\"gemini-1.0-pro\",\n",
        "                              generation_config=generation_config,\n",
        "                              safety_settings=safety_settings)"
      ],
      "metadata": {
        "id": "dardbJ_S9r-O"
      },
      "execution_count": 29,
      "outputs": []
    },
    {
      "cell_type": "markdown",
      "source": [
        "Corpo principal do Quiz onde é executado um chat com o Gemini cujo funcionamento é o seguinte:\n",
        "- Gemini gera perguntas de um assunto escolhido pelo jogador;\n",
        "- Jogador escolhe uma alternativa;\n",
        "- Gemini analisa a resposta e dá uma devolutiva ao jogador;\n",
        "- Jogador pode finalizar ou prosseguir para próxima pergunta. Caso encerre, o Gemini consolida as respostas corretas e incorretas e mostra um resultado."
      ],
      "metadata": {
        "id": "5VWXx6OsW55z"
      }
    },
    {
      "cell_type": "code",
      "source": [
        "# Cria a tela inicial\n",
        "print_titulo_quiz(\"GeminAIQuiz - Quiz Dinâmico com Google Gemini\")\n",
        "\n",
        "# Inicia o chat com o Gemini\n",
        "chat = model.start_chat(history=[])\n",
        "\n",
        "#Usuario escolhe o assunto do Quiz\n",
        "tema = input(\"Escolha um tema para o Quiz (Tema sugerido Python): \\n\")\n",
        "print(\"\")\n",
        "print(\"-\" * 100)\n",
        "prompt = \"\"\n",
        "pergunta = \"\"\n",
        "\n",
        "while True:\n",
        "    # Gemini gera a pergunta conforme assunto escolhido e formatação de exemplo\n",
        "    pergunta_modelo = chat.send_message(template_pergunta(tema))\n",
        "\n",
        "    # Caso o tema seja conhecido pelo Gemini a pergunta será apresentada\n",
        "    if gemini_conhece_tema(pergunta_modelo.text):\n",
        "      pergunta = tratar_pergunta(pergunta_modelo.text)\n",
        "      print(aplicar_estilo(pergunta, \"negrito\"), \"\\n\")\n",
        "    else:\n",
        "      break\n",
        "\n",
        "    # jogador escolhe alternativa\n",
        "    prompt = seleciona_alternativa()\n",
        "\n",
        "    # Gemini avalia a resposta\n",
        "    resposta_modelo = chat.send_message(template_resposta(prompt))\n",
        "\n",
        "    # printa na tela a resposta do GEMINI e aplica cor azul se correta e vermelha se incorreta\n",
        "    if  avalia_resposta(resposta_modelo.text):\n",
        "      print(\"\\n\", aplicar_estilo(resposta_modelo.text, \"azul\"), \"\\n\")\n",
        "    else:\n",
        "       print(\"\\n\", aplicar_estilo(resposta_modelo.text, \"vermelho\"), \"\\n\")\n",
        "\n",
        "    # Opção para finalizar o jogo ou continuar\n",
        "    sair_jogo = input(\"Digite <S> para finalizar o jogo ou qualquer outra tecla para continuar \\n \")\n",
        "    if sair_jogo.upper() == \"S\":\n",
        "      break\n",
        "\n",
        "# Solicita ao Gemini para avaliar o resultado das respostas\n",
        "if gemini_conhece_tema(pergunta_modelo.text):\n",
        "  num_certas_erradas = obter_resultado(chat.history)\n",
        "  resultado_Final = chat.send_message(template_resultado(chat.history,num_certas_erradas[0],num_certas_erradas[1]))\n",
        "  print(borda_quadrada(resultado_Final.text), \"\\n\")\n",
        "else:\n",
        "  print(\"O Gemini não conhece esse tema. Para iniciar o jogo escolha outro tema\")\n"
      ],
      "metadata": {
        "colab": {
          "base_uri": "https://localhost:8080/",
          "height": 1000
        },
        "id": "LItiDJP5QRxP",
        "outputId": "b81e5cfb-19e1-450d-90ba-09b00a6e7d3d"
      },
      "execution_count": 30,
      "outputs": [
        {
          "output_type": "stream",
          "name": "stdout",
          "text": [
            "*************************************************\n",
            "* GeminAIQuiz - Quiz Dinâmico com Google Gemini *\n",
            "*************************************************\n",
            "Escolha um tema para o Quiz (Tema sugerido Python): \n",
            "python\n",
            "\n",
            "----------------------------------------------------------------------------------------------------\n",
            "\u001b[1mQual das seguintes é uma estrutura de dados embutida em Python?\n",
            "\n",
            "a) Matriz\n",
            "b) Dicionário\n",
            "c) Fila\n",
            "d) Pilha\n",
            "e) Grafo\u001b[0m \n",
            "\n",
            "----------------------------------------------------------------------------------------------------\n",
            "Qual a alternativa correta:\n",
            "a\n",
            "----------------------------------------------------------------------------------------------------\n",
            "\n",
            " \u001b[91m**Errada**\n",
            "\n",
            "A resposta correta é **b) Dicionário**. Os dicionários são uma estrutura de dados embutida em Python que armazenam pares chave-valor. As matrizes não são uma estrutura de dados embutida em Python; em vez disso, são implementadas usando listas.\u001b[0m \n",
            "\n",
            "Digite <S> para finalizar o jogo ou qualquer outra tecla para continuar \n",
            " \n",
            "\u001b[1mQual das seguintes é uma palavra-chave usada para definir uma função em Python?\n",
            "\n",
            "a) função\n",
            "b) definir\n",
            "c) criar\n",
            "d) def\n",
            "e) função\u001b[0m \n",
            "\n",
            "----------------------------------------------------------------------------------------------------\n",
            "Qual a alternativa correta:\n",
            "c\n",
            "----------------------------------------------------------------------------------------------------\n",
            "\n",
            " \u001b[91m**Errada**\n",
            "\n",
            "A resposta correta é **d) def**. A palavra-chave `def` é usada para definir uma função em Python. A palavra-chave `criar` não é usada para definir funções em Python.\u001b[0m \n",
            "\n",
            "Digite <S> para finalizar o jogo ou qualquer outra tecla para continuar \n",
            " s\n",
            "+-------------------------------------------------------------------------------------------------------------------------------------------------------------------------------------------------------------------------------+\n",
            "| Respostas certas: 0                                                                                                                                                                                                           |\n",
            "| Respostas erradas: 2                                                                                                                                                                                                          |\n",
            "|                                                                                                                                                                                                                               |\n",
            "| **Conselhos de estudo:**                                                                                                                                                                                                      |\n",
            "|                                                                                                                                                                                                                               |\n",
            "| Você errou as duas perguntas. Recomendo revisar os conceitos básicos de Python, como estruturas de dados e definição de funções. Você pode encontrar recursos úteis na documentação oficial do Python ou em tutoriais online. |\n",
            "+-------------------------------------------------------------------------------------------------------------------------------------------------------------------------------------------------------------------------------+ \n",
            "\n"
          ]
        }
      ]
    }
  ]
}